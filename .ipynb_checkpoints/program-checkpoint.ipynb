{
 "cells": [
  {
   "cell_type": "code",
   "execution_count": 1,
   "id": "9f26e4d5-010f-431e-8a5e-aa54c6bd7632",
   "metadata": {},
   "outputs": [
    {
     "name": "stderr",
     "output_type": "stream",
     "text": [
      "C:\\Users\\ustro\\.conda\\envs\\GOES_viewer\\lib\\site-packages\\goes2go\\data.py:665: FutureWarning: 'H' is deprecated and will be removed in a future version. Please use 'h' instead of 'H'.\n",
      "  within=pd.to_timedelta(config[\"nearesttime\"].get(\"within\", \"1h\")),\n",
      "C:\\Users\\ustro\\.conda\\envs\\GOES_viewer\\lib\\site-packages\\goes2go\\NEW.py:188: FutureWarning: 'H' is deprecated and will be removed in a future version. Please use 'h' instead of 'H'.\n",
      "  within=pd.to_timedelta(config[\"nearesttime\"].get(\"within\", \"1h\")),\n"
     ]
    },
    {
     "data": {
      "application/vnd.jupyter.widget-view+json": {
       "model_id": "a36199f2632e4ca5af258b4ba6b03a39",
       "version_major": 2,
       "version_minor": 0
      },
      "text/plain": [
       "Tab(children=(HBox(children=(VBox(children=(Label(value='Quickly select a product type and preset location.', …"
      ]
     },
     "metadata": {},
     "output_type": "display_data"
    }
   ],
   "source": [
    "# Import modules and location data\n",
    "import main\n",
    "\n",
    "display = main.user_display()"
   ]
  },
  {
   "cell_type": "code",
   "execution_count": 2,
   "id": "fc246e72-0665-4de6-b0b9-cb35bb136dbe",
   "metadata": {},
   "outputs": [
    {
     "name": "stdout",
     "output_type": "stream",
     "text": [
      " 👮🏻‍♂️ File already exists. Do not overwrite: output\\data\\noaa-goes16\\ABI-L2-MCMIPC\\2024\\229\\01\\OR_ABI-L2-MCMIPC-M6_G16_s20242290101174_e20242290103552_c20242290104059.nc\n",
      " 👮🏻‍♂️ File already exists. Do not overwrite: output\\data\\noaa-goes16\\ABI-L2-MCMIPC\\2024\\229\\01\\OR_ABI-L2-MCMIPC-M6_G16_s20242290106174_e20242290108559_c20242290109060.nc\n",
      " 👮🏻‍♂️ File already exists. Do not overwrite: output\\data\\noaa-goes16\\ABI-L2-MCMIPC\\2024\\229\\01\\OR_ABI-L2-MCMIPC-M6_G16_s20242290111174_e20242290113558_c20242290114080.nc\n",
      " 👮🏻‍♂️ File already exists. Do not overwrite: output\\data\\noaa-goes16\\ABI-L2-MCMIPC\\2024\\229\\01\\OR_ABI-L2-MCMIPC-M6_G16_s20242290116174_e20242290118559_c20242290119067.nc\n",
      " 👮🏻‍♂️ File already exists. Do not overwrite: output\\data\\noaa-goes16\\ABI-L2-MCMIPC\\2024\\229\\01\\OR_ABI-L2-MCMIPC-M6_G16_s20242290121174_e20242290123559_c20242290124069.nc\n",
      "📦 Finished downloading [5] files to [output\\data\\noaa-goes16\\ABI-L2-MCMIPC].\n",
      "Saving figure for timestep 0 to output/images/2b7e764312218f4647bf0e91fe4375d0.png...\n",
      "Saving figure for timestep 1 to output/images/27cc2e474d7c199371dbcf085f58714f.png...\n",
      "Saving figure for timestep 2 to output/images/f0988a3d03830439ece11e60a236bf4d.png...\n",
      "Saving figure for timestep 3 to output/images/73932dc16ba35aaea39bd157b768a8a7.png...\n",
      "Saving figure for timestep 4 to output/images/9564f63ed0ced5c2b07fb057327c7f04.png...\n"
     ]
    },
    {
     "data": {
      "application/vnd.jupyter.widget-view+json": {
       "model_id": "b56ae5c4290e4d2f89544efce3183934",
       "version_major": 2,
       "version_minor": 0
      },
      "text/plain": [
       "VBox(children=(HBox(children=(Play(value=0, description='Press play', interval=500, max=4), IntSlider(value=0,…"
      ]
     },
     "metadata": {},
     "output_type": "display_data"
    }
   ],
   "source": [
    "main.handle_data(display)"
   ]
  },
  {
   "cell_type": "code",
   "execution_count": null,
   "id": "c2be28cb-bdb4-4c18-a4ec-7afe32ea2b29",
   "metadata": {},
   "outputs": [],
   "source": []
  }
 ],
 "metadata": {
  "kernelspec": {
   "display_name": "Python 3 (ipykernel)",
   "language": "python",
   "name": "python3"
  },
  "language_info": {
   "codemirror_mode": {
    "name": "ipython",
    "version": 3
   },
   "file_extension": ".py",
   "mimetype": "text/x-python",
   "name": "python",
   "nbconvert_exporter": "python",
   "pygments_lexer": "ipython3",
   "version": "3.9.19"
  }
 },
 "nbformat": 4,
 "nbformat_minor": 5
}
