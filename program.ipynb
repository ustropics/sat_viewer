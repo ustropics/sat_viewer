{
 "cells": [
  {
   "cell_type": "code",
   "execution_count": 1,
   "id": "9f26e4d5-010f-431e-8a5e-aa54c6bd7632",
   "metadata": {},
   "outputs": [
    {
     "name": "stderr",
     "output_type": "stream",
     "text": [
      "C:\\Users\\ustro\\.conda\\envs\\GOES_viewer\\lib\\site-packages\\goes2go\\data.py:665: FutureWarning: 'H' is deprecated and will be removed in a future version. Please use 'h' instead of 'H'.\n",
      "  within=pd.to_timedelta(config[\"nearesttime\"].get(\"within\", \"1h\")),\n",
      "C:\\Users\\ustro\\.conda\\envs\\GOES_viewer\\lib\\site-packages\\goes2go\\NEW.py:188: FutureWarning: 'H' is deprecated and will be removed in a future version. Please use 'h' instead of 'H'.\n",
      "  within=pd.to_timedelta(config[\"nearesttime\"].get(\"within\", \"1h\")),\n"
     ]
    },
    {
     "data": {
      "application/vnd.jupyter.widget-view+json": {
       "model_id": "3832ed7ac86345e8b577377b58e04899",
       "version_major": 2,
       "version_minor": 0
      },
      "text/plain": [
       "Tab(children=(HBox(children=(VBox(children=(Label(value='Quickly select a product type and preset location.', …"
      ]
     },
     "metadata": {},
     "output_type": "display_data"
    }
   ],
   "source": [
    "# Import modules and location data\n",
    "import main\n",
    "\n",
    "display = main.user_display()"
   ]
  },
  {
   "cell_type": "code",
   "execution_count": null,
   "id": "fc246e72-0665-4de6-b0b9-cb35bb136dbe",
   "metadata": {},
   "outputs": [],
   "source": [
    "main.handle_data(display)"
   ]
  },
  {
   "cell_type": "code",
   "execution_count": null,
   "id": "c2be28cb-bdb4-4c18-a4ec-7afe32ea2b29",
   "metadata": {},
   "outputs": [],
   "source": []
  }
 ],
 "metadata": {
  "kernelspec": {
   "display_name": "Python 3 (ipykernel)",
   "language": "python",
   "name": "python3"
  },
  "language_info": {
   "codemirror_mode": {
    "name": "ipython",
    "version": 3
   },
   "file_extension": ".py",
   "mimetype": "text/x-python",
   "name": "python",
   "nbconvert_exporter": "python",
   "pygments_lexer": "ipython3",
   "version": "3.9.19"
  }
 },
 "nbformat": 4,
 "nbformat_minor": 5
}
